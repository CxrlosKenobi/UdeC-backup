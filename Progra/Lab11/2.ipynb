{
 "cells": [
  {
   "cell_type": "code",
   "execution_count": null,
   "metadata": {},
   "outputs": [],
   "source": [
    "def distanceBetweenTwoDots(x1, y1, x2, y2):\n",
    "    return ((x1 - x2) ** 2 + (y1 - y2) ** 2) ** 0.5\n"
   ]
  },
  {
   "cell_type": "code",
   "execution_count": null,
   "metadata": {},
   "outputs": [],
   "source": [
    "def main():\n",
    "  # N = int(input(\"N: \"))\n",
    "\n",
    "  # listOfDots = []\n",
    "  # for i in range(N):\n",
    "  #   x, y = input(\"Enter x and y: \").split()\n",
    "  #   listOfDots.append((int(x), int(y)))\n",
    "  N = 5\n",
    "  listOfDots = [(0,2), (6,67), (43,71), (39,107), (189,140)]\n",
    "\n",
    "  measures = []\n",
    "  for dot in range(N):\n",
    "    for each in range(N):\n",
    "      distance = distanceBetweenTwoDots(\n",
    "        dot[0], dot[1],\n",
    "        each[0], each[1]\n",
    "      )\n",
    "\n",
    "      if (distance > 10000):\n",
    "        print(\"INFINITO\")\n",
    "        return None\n",
    "\n",
    "      measures.append(distance)\n",
    "\n",
    "  minimo = min(measures)\n",
    "  print(round(minimo, 4))\n",
    "\n",
    "main()"
   ]
  },
  {
   "cell_type": "code",
   "execution_count": null,
   "metadata": {},
   "outputs": [],
   "source": [
    "listOfDots = [(0,2), (6,67), (43,71), (39,107), (189,140)]\n",
    "\n",
    "listOfDots= [(100, 100), (10000, 10000)]\n",
    "\n"
   ]
  },
  {
   "cell_type": "code",
   "execution_count": null,
   "metadata": {},
   "outputs": [],
   "source": []
  },
  {
   "cell_type": "code",
   "execution_count": null,
   "metadata": {},
   "outputs": [],
   "source": []
  },
  {
   "cell_type": "code",
   "execution_count": null,
   "metadata": {},
   "outputs": [],
   "source": []
  },
  {
   "cell_type": "code",
   "execution_count": null,
   "metadata": {},
   "outputs": [],
   "source": []
  }
 ],
 "metadata": {
  "kernelspec": {
   "display_name": "Python 3.10.5 64-bit",
   "language": "python",
   "name": "python3"
  },
  "language_info": {
   "codemirror_mode": {
    "name": "ipython",
    "version": 3
   },
   "file_extension": ".py",
   "mimetype": "text/x-python",
   "name": "python",
   "nbconvert_exporter": "python",
   "pygments_lexer": "ipython3",
   "version": "3.10.5"
  },
  "orig_nbformat": 4,
  "vscode": {
   "interpreter": {
    "hash": "97cc609b13305c559618ec78a438abc56230b9381f827f22d070313b9a1f3777"
   }
  }
 },
 "nbformat": 4,
 "nbformat_minor": 2
}
