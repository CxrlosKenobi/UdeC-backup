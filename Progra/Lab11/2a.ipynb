{
 "cells": [
  {
   "cell_type": "code",
   "execution_count": 2,
   "metadata": {},
   "outputs": [],
   "source": [
    "def distancia(x1, y1, x2, y2):\n",
    "  output = ((x1 - x2) ** 2 + (y1 - y2) ** 2) ** 0.5\n",
    "\n",
    "  return output\n"
   ]
  },
  {
   "cell_type": "code",
   "execution_count": 3,
   "metadata": {},
   "outputs": [],
   "source": [
    "def comparar_con_anteriores(coordenadas, x, y):\n",
    "  ans = 10001\n",
    "  for punto in coordenadas:\n",
    "    d = distancia(punto[0], punto[1], x, y)\n",
    "    if d < ans: # Si es menor que el anterior, lo guardo\n",
    "      ans = d\n",
    "\n",
    "  return ans\n"
   ]
  },
  {
   "cell_type": "code",
   "execution_count": 5,
   "metadata": {},
   "outputs": [
    {
     "name": "stdout",
     "output_type": "stream",
     "text": [
      "La distancia mínima es:  36.22154055254967\n"
     ]
    }
   ],
   "source": [
    "def main():\n",
    "  N = int(input(\"N: \"))\n",
    "\n",
    "  ans = 10001\n",
    "  coordenadas = []\n",
    "\n",
    "  x, y = input().split()\n",
    "  x, y = int(x), int(y)\n",
    "  coordenadas.append([x, y])\n",
    "\n",
    "  for i in range(N - 1):\n",
    "    x, y = input().split()\n",
    "    x, y = int(x), int(y)\n",
    "    _min = comparar_con_anteriores(coordenadas, x, y)\n",
    "\n",
    "    if ans > _min: # Si es menor que el anterior, lo guardo\n",
    "      ans = _min\n",
    "\n",
    "    coordenadas.append([x, y])\n",
    "\n",
    "  if ans <= 10000:\n",
    "    print(\"La distancia mínima es: \", ans)\n",
    "  else:\n",
    "    print(\"INFINITO\")\n",
    "\n",
    "main()\n"
   ]
  }
 ],
 "metadata": {
  "kernelspec": {
   "display_name": "Python 3.10.5 64-bit",
   "language": "python",
   "name": "python3"
  },
  "language_info": {
   "codemirror_mode": {
    "name": "ipython",
    "version": 3
   },
   "file_extension": ".py",
   "mimetype": "text/x-python",
   "name": "python",
   "nbconvert_exporter": "python",
   "pygments_lexer": "ipython3",
   "version": "3.10.5"
  },
  "orig_nbformat": 4,
  "vscode": {
   "interpreter": {
    "hash": "97cc609b13305c559618ec78a438abc56230b9381f827f22d070313b9a1f3777"
   }
  }
 },
 "nbformat": 4,
 "nbformat_minor": 2
}
