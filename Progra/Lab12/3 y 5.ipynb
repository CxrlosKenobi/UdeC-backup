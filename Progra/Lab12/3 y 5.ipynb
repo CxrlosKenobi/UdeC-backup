{
 "cells": [
  {
   "cell_type": "code",
   "execution_count": null,
   "metadata": {},
   "outputs": [],
   "source": [
    "import numpy as np\n",
    "vector = np.ones(16)\n",
    "for i in range(len(vector)):\n",
    "    vector[i] = float(input(f\"Ingrese el valor numero {i+1} al vector =\"))\n",
    "    \n",
    "#realizamos las sumas\n",
    "suma1 = 0\n",
    "suma2 = 0\n",
    "s1 = sum(vector[:len(vector)//2])\n",
    "s2 = sum(vector[len(vector)//2:])\n",
    "print(\"sumas\",s1,s2)\n",
    "for i in range(len(vector)):\n",
    "    if i < len(vector)//2:\n",
    "        suma1 = suma1 + vector[i]\n",
    "    else:\n",
    "        suma2 = suma2 + vector[i]\n",
    "print(f\"Las sumas son {suma1} y {suma2} \")"
   ]
  },
  {
   "cell_type": "code",
   "execution_count": null,
   "metadata": {},
   "outputs": [],
   "source": [
    "import numpy as np\n",
    "P = np.ones(16)\n",
    "for i in range(len(P)):\n",
    "    P[i] = float(input(f\"Ingrese el valor numero {i+1} al vector =\"))\n",
    "    \n",
    "#buscar el mayor\n",
    "pmayor = 0 #asumimos que el primero es el mayor\n",
    "for i in range(len(P)):\n",
    "    if P[i] > P[pmayor]: \n",
    "        pmayor = i\n",
    "    #pero ¿que pasa si hay dos mayores?\n",
    "print(f\"la posicion con el numero mayor es {pmayor}.\")\n",
    "\n"
   ]
  },
  {
   "cell_type": "code",
   "execution_count": null,
   "metadata": {},
   "outputs": [],
   "source": [
    "import numpy as np\n",
    "P = np.ones(16)\n",
    "for i in range(len(P)):\n",
    "    P[i] = float(input(f\"Ingrese el valor numero {i+1} al vector =\"))\n",
    "    \n",
    "#buscar el mayor\n",
    "pmayor = 0 #asumimos que el primero es el mayor\n",
    "a = [0]\n",
    "for i in range(len(P)):\n",
    "    if P[i] > P[pmayor]: \n",
    "        pmayor = i\n",
    "        a = []\n",
    "    #pero ¿que pasa si hay dos mayores?\n",
    "    if P[i] == P[pmayor]:\n",
    "        a.append(i)\n",
    "        \n",
    "if len(a) == 1:\n",
    "    print(f\"la posicion con el numero mayor es {pmayor}.\")\n",
    "else: \n",
    "    print(f\"las posiciones con el mayor numero son {a}.\")"
   ]
  },
  {
   "cell_type": "code",
   "execution_count": null,
   "metadata": {},
   "outputs": [],
   "source": []
  }
 ],
 "metadata": {
  "kernelspec": {
   "display_name": "Python 3",
   "language": "python",
   "name": "python3"
  },
  "language_info": {
   "codemirror_mode": {
    "name": "ipython",
    "version": 3
   },
   "file_extension": ".py",
   "mimetype": "text/x-python",
   "name": "python",
   "nbconvert_exporter": "python",
   "pygments_lexer": "ipython3",
   "version": "3.7.1"
  }
 },
 "nbformat": 4,
 "nbformat_minor": 2
}
