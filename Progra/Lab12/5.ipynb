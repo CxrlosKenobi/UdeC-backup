{
 "cells": [
  {
   "cell_type": "code",
   "execution_count": null,
   "metadata": {},
   "outputs": [],
   "source": [
    "## [!] Mencionar que:\n",
    "  # Dada las alturas del semestre, aprovecharan de hacerme preguntas\n",
    "    # sin importar si es contenido de principio del ramo; así llenan los vacíos de conocimientos.\n",
    "  # No hay problema en que lleguen al lab a preguntar o aprender lo que no entendieron en las clases teóricas."
   ]
  },
  {
   "cell_type": "code",
   "execution_count": null,
   "metadata": {},
   "outputs": [],
   "source": [
    "def get_matrix(n):\n",
    "  matrix = []\n",
    "  for i in range(n):\n",
    "    row = []\n",
    "    for element in range(n):\n",
    "      row.append(int(input(f\"Ingrese elemento {element+1} de la fila {i+1}: \")))\n",
    "    matrix.append(row)\n",
    "\n",
    "  return matrix\n",
    "\n",
    "def process(matrix):\n",
    "  for i in range(len(matrix)):\n",
    "    # Find the max value in the i-th column\n",
    "    active_col = [row[i] for row in matrix]\n",
    "    max_value = max(active_col)\n",
    "\n",
    "    # Get the tow index where the max value is\n",
    "    j_index = active_col.index(max_value)\n",
    "    j = matrix[j_index]\n",
    "    #Replace all of the values to the right of the max value, with 0s\n",
    "    for position in range(len(j)):\n",
    "      if (position > i) and (j[position] is not max_value):\n",
    "        j[position] = 0\n",
    "    \n",
    "    # Swap row[i] position, with the row that has the max value\n",
    "    matrix[i], matrix[j_index] = j, matrix[i]\n",
    "\n",
    "  return matrix\n",
    "\n",
    "def main():\n",
    "  # n = int(input(\"Ingrese n: \"))\n",
    "  # matrix = get_matrix(n)\n",
    "  matrix = [[2, 7, 6], [4, 5, 3], [9, 8, 1]]\n",
    "\n",
    "  print(\"Old matrix: \")\n",
    "  for row in matrix: print(row)\n",
    "\n",
    "  process(matrix)\n",
    "\n",
    "  print(\"\\nOutput matrix: \")\n",
    "  for row in matrix: print(row)\n",
    "\n",
    "main()\n",
    "\n"
   ]
  }
 ],
 "metadata": {
  "kernelspec": {
   "display_name": "Python 3.10.5 64-bit",
   "language": "python",
   "name": "python3"
  },
  "language_info": {
   "codemirror_mode": {
    "name": "ipython",
    "version": 3
   },
   "file_extension": ".py",
   "mimetype": "text/x-python",
   "name": "python",
   "nbconvert_exporter": "python",
   "pygments_lexer": "ipython3",
   "version": "3.10.5"
  },
  "orig_nbformat": 4,
  "vscode": {
   "interpreter": {
    "hash": "97cc609b13305c559618ec78a438abc56230b9381f827f22d070313b9a1f3777"
   }
  }
 },
 "nbformat": 4,
 "nbformat_minor": 2
}
