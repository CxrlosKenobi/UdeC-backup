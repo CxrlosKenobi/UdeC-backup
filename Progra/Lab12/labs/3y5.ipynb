{
 "cells": [
  {
   "cell_type": "code",
   "execution_count": 6,
   "metadata": {},
   "outputs": [
    {
     "name": "stdout",
     "output_type": "stream",
     "text": [
      "[ 4.  5.  6.  5.  4.  3.  4.  5.  6.  6.  5.  4.  3.  3. 55.  6.]\n",
      "Las sumas fueron: 36.0 88.0\n"
     ]
    }
   ],
   "source": [
    "import numpy as np\n",
    "C = np.ones(16)\n",
    "\n",
    "for i in range(len(C)):\n",
    "  C[i] = float(input(\"Ingrese el valor del numero \" + str(i+1) + \":\"))\n",
    "print(C)\n",
    "\n",
    "s1 = sum(C[0:len(C)//2]) #C[inicio:fin]\n",
    "s2 = sum(C[len(C)//2:])\n",
    "\n",
    "\n",
    "\n",
    "\"\"\"\n",
    "ESTO NO CORRE\n",
    "s1 = 0\n",
    "s2 = 0\n",
    "\n",
    "for i in range(len(C)):\n",
    "  if i < len(C)//2:\n",
    "    s1 = s1 + C[i]\n",
    "  else:\n",
    "    s2 = s2 + C[i]\n",
    "\"\"\"\n",
    "print(\"Las sumas fueron:\",s1,s2)"
   ]
  },
  {
   "cell_type": "code",
   "execution_count": 9,
   "metadata": {},
   "outputs": [
    {
     "name": "stdout",
     "output_type": "stream",
     "text": [
      "[ 5.  4. 55. 64.  2. 64.  6.  5.  4.  3.  4.  5.  6.  7.  6.  5.]\n",
      "Las posiciones con el mayor numero son [3, 5]\n"
     ]
    }
   ],
   "source": [
    "import numpy as np\n",
    "P = np.ones(16)\n",
    "\n",
    "for i in range(len(P)):\n",
    "  P[i] = float(input(\"Ingrese el valor del numero \" + str(i+1) + \":\"))\n",
    "print(P)\n",
    "\n",
    "pmayor = 0\n",
    "a = [0] #es ir guardando todas las posiciones que tenga el mayor valor\n",
    "for i in range(len(P)):\n",
    "  if P[i] > P[pmayor]:\n",
    "    pmayor = i\n",
    "    a = []\n",
    "  if P[i] == P[pmayor]:\n",
    "    a.append(i)\n",
    "if len(a) == 1:\n",
    "  print(\"La posicion del numero mayor es:\",pmayor)\n",
    "else:\n",
    "  print(\"Las posiciones con el mayor numero son\",a)"
   ]
  }
 ],
 "metadata": {
  "kernelspec": {
   "display_name": "Python 3.10.5 64-bit",
   "language": "python",
   "name": "python3"
  },
  "language_info": {
   "codemirror_mode": {
    "name": "ipython",
    "version": 3
   },
   "file_extension": ".py",
   "mimetype": "text/x-python",
   "name": "python",
   "nbconvert_exporter": "python",
   "pygments_lexer": "ipython3",
   "version": "3.10.5"
  },
  "orig_nbformat": 4,
  "vscode": {
   "interpreter": {
    "hash": "97cc609b13305c559618ec78a438abc56230b9381f827f22d070313b9a1f3777"
   }
  }
 },
 "nbformat": 4,
 "nbformat_minor": 2
}
