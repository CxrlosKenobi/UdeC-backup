{
 "cells": [
  {
   "cell_type": "code",
   "execution_count": 1,
   "metadata": {},
   "outputs": [
    {
     "name": "stdout",
     "output_type": "stream",
     "text": [
      "33000\n"
     ]
    }
   ],
   "source": [
    "def validate_input(minimo, maximo):\n",
    "  answer = int(input(\"> \"))\n",
    "\n",
    "  while not (minimo < answer < maximo):\n",
    "    print(f\"Input fuera de rango ({minimo}, {maximo})\")\n",
    "    answer = int(input(\"> \"))\n",
    "  \n",
    "  return answer\n",
    "\n",
    "def ticket_price(edad):\n",
    "  if (4 <= edad <= 18):\n",
    "    return 5000\n",
    "  \n",
    "  elif (18 < edad < 65):\n",
    "    return 10000\n",
    "  \n",
    "  elif (edad >= 65):\n",
    "\n",
    "    return 3000\n",
    "\n",
    "  else:\n",
    "    return 0\n",
    "  \n",
    "def main():\n",
    "  N = validate_input(1, 100)\n",
    "\n",
    "  total = 0\n",
    "  for i in range(N):\n",
    "    edad = validate_input(0, 90)\n",
    "    total += ticket_price(edad)\n",
    "\n",
    "  print(total)\n",
    "\n",
    "main()"
   ]
  },
  {
   "cell_type": "code",
   "execution_count": 9,
   "metadata": {},
   "outputs": [
    {
     "name": "stdout",
     "output_type": "stream",
     "text": [
      "La cantidad de números a calcular es 7 a partir del valor inicial 7\n",
      "[i = 0] 7\n",
      "[i = 1] 17\n",
      "[i = 2] 1117\n",
      "[i = 3] 3117\n",
      "[i = 4] 132117\n",
      "[i = 5] 1113122117\n",
      "[i = 6] 311311222117\n"
     ]
    }
   ],
   "source": [
    "'''\n",
    "  Problema 5\n",
    "'''\n",
    "\n",
    "'''\n",
    "  Definición de función para validar el valor ingresado dentro de un rango\n",
    "'''\n",
    "\n",
    "def insertvalue(min, max, message):\n",
    "  n = int(input(f\"Ingrese un valor entre {min} y {max}. {message}=\"))\n",
    "\n",
    "  while n <= min or n >= max:\n",
    "    n = int(input(f\"Ingrese un valor entre {min} y {max}\"))\n",
    "  \n",
    "  return n\n",
    "\n",
    "'''\n",
    "  Definición para calcular la cantidad de digitos\n",
    "'''\n",
    "\n",
    "def count_digits(n):\n",
    "  digits = 0\n",
    "  while n != 0:\n",
    "    n = n // 10\n",
    "    digits = digits + 1\n",
    "  return digits\n",
    "\n",
    "def dig_significativo(n):\n",
    "  d = count_digits(n)\n",
    "\n",
    "  if d <= 1:\n",
    "    return n, 0\n",
    "  else:\n",
    "    dig = n//(10**(d-1))\n",
    "    return dig, n-dig*10**(d-1)\n",
    "\n",
    "#  Programa principal del problema\n",
    "v = insertvalue(0, 9, 'v')\n",
    "n = insertvalue(1, 20, 'n')\n",
    "\n",
    "print(f\"La cantidad de números a calcular es {n} a partir del valor inicial {v}\")\n",
    "print(f\"[i = 0] {v}\")\n",
    "\n",
    "i = 1\n",
    "while i != n:\n",
    "  d_ant, v = dig_significativo(v)\n",
    "  c = 1\n",
    "  number = 0\n",
    "\n",
    "  while count_digits(v) >= 1:\n",
    "    d, v = dig_significativo(v)\n",
    "    if d_ant == d:\n",
    "      c = c + 1\n",
    "    else:\n",
    "      number = number * 100 + c*10 + d_ant\n",
    "      d_ant = d\n",
    "      c = 1\n",
    "  \n",
    "  number = number * 100 + c*10 + d_ant\n",
    "  print(f\"[i = {i}] {number}\")\n",
    "\n",
    "  v = number\n",
    "\n",
    "  i = i + 1\n",
    "    "
   ]
  }
 ],
 "metadata": {
  "interpreter": {
   "hash": "8a94588eda9d64d9e9a351ab8144e55b1fabf5113b54e67dd26a8c27df0381b3"
  },
  "kernelspec": {
   "display_name": "Python 3.10.4 64-bit",
   "language": "python",
   "name": "python3"
  },
  "language_info": {
   "codemirror_mode": {
    "name": "ipython",
    "version": 3
   },
   "file_extension": ".py",
   "mimetype": "text/x-python",
   "name": "python",
   "nbconvert_exporter": "python",
   "pygments_lexer": "ipython3",
   "version": "3.10.4"
  },
  "orig_nbformat": 4
 },
 "nbformat": 4,
 "nbformat_minor": 2
}
