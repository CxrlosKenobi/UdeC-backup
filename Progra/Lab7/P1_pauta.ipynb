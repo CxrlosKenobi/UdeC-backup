{
 "cells": [
  {
   "cell_type": "markdown",
   "metadata": {},
   "source": [
    "Esta semana será especial porque iniciamos el tema \"funciones\". \n",
    "El asunto es que los estudiantes que tengan lab el lunes no habrán visto el tema en clases.\n",
    "Los del martes al jueves ya habrán tenido la clase teórica y las respuestas a sus consultas sobre el tema.\n",
    "El viernes en la tarde se cierra la U por aniversario, así es que no habrá práctica.\n",
    "\n",
    "En virtud de lo anterior haremos lo siguiente:\n"
   ]
  },
  {
   "cell_type": "markdown",
   "metadata": {},
   "source": [
    "LabPython 1, 2 y 3 (las de los lunes) parten su clase dedicando unos 15 minutos a responder consultas sobre el tema funciones. Los conceptos importantes son que las funciones permiten reutilizar código (las funciones son piezas de código que pueden ser compartidas por distintos programas) y que pensar en el desarrollo de un programa mediante la definición de funciones permite disminuir la complejidad de la solución a un problema (aquí se hace presente la estrategia de dividir para conquistar). Otra cosa que se puede mencionar acá es que, las funciones relacionadas en su propósito se pueden agrupar en bibliotecas, por ejemplo, funciones como las trigonométricas (seno, coseno, tangente, etc.), las logarítmicas, las exponenciales y, en general, las aritméticas, en Python están agrupadas en una biblioteca que se llama \"math\". Así, si quiero usar cualquiera de estas sólo debo importarlas desde math."
   ]
  },
  {
   "cell_type": "markdown",
   "metadata": {},
   "source": [
    "LabPython 12, 13 y 14 (las de los viernes) seguirán las siguientes indicaciones pero harán su trabajo en forma asincrónica (tendrán que grabar un vídeo). Se pueden poner de acuerdo quienes trabajan en estos labs para hacer una sola versión del video."
   ]
  },
  {
   "cell_type": "code",
   "execution_count": 5,
   "metadata": {},
   "outputs": [],
   "source": [
    "# Problema 1 DIVERTILANDIA\n",
    "\n",
    "# Lo primero será crear una función, que sea lo más genérica posible, la cual permita\n",
    "# el ingreso de valores que cumplan con cierta restricción. Básicamente una función \n",
    "# para ingresar un dato y validarlo\n",
    "\n",
    "def ingresa_y_valida(vmenor, vmayor, mensaje):\n",
    "    v=int(input(mensaje))\n",
    "    while v < vmenor or v > vmayor:\n",
    "        v=int(input(f'Error, valor fuera de rango.\\n{mensaje}'))\n",
    "    return v"
   ]
  },
  {
   "cell_type": "markdown",
   "metadata": {},
   "source": [
    "Este código es muy genérico, pues acepta cualquier condición que se plantee para el valor de\n",
    "una variable que se quiere ingresar:\n",
    "- por ejemplo si lo que se quiere ingresar es una variable N de valor mayor que cero, la\n",
    "  llamada sería"
   ]
  },
  {
   "cell_type": "code",
   "execution_count": 6,
   "metadata": {},
   "outputs": [
    {
     "name": "stdout",
     "output_type": "stream",
     "text": [
      "N=-9\n",
      "Error, valor fuera de rango.\n",
      "N=89\n"
     ]
    }
   ],
   "source": [
    "N=ingresa_y_valida(1, float(\"inf\"), \"N=\")"
   ]
  },
  {
   "cell_type": "markdown",
   "metadata": {},
   "source": [
    "En este último código la variable de la función vmenor tomaría el valor 1, la variable de la \n",
    "función vmayor tomaría el valor infinito (que en Python, una de las formas de escribirlo es \n",
    "\"float('inf')\") y la variable de la función mensaje tomaría el valor 'N='.\n",
    "\n",
    "Notar que tanto la definición de la función como la llamada a la función tienen 3 parámetros."
   ]
  },
  {
   "cell_type": "markdown",
   "metadata": {},
   "source": [
    "- en otro ejemplo, si lo que se quiere ingresar es una variable con valor entre 1 y 90, la\n",
    "  llamada debiera ser"
   ]
  },
  {
   "cell_type": "code",
   "execution_count": 8,
   "metadata": {},
   "outputs": [
    {
     "name": "stdout",
     "output_type": "stream",
     "text": [
      "E=100\n",
      "Error, valor fuera de rango.\n",
      "E=56\n"
     ]
    }
   ],
   "source": [
    "E=ingresa_y_valida(1,90,'E=')"
   ]
  },
  {
   "cell_type": "markdown",
   "metadata": {},
   "source": [
    "Ahora vamos por un programa que, dada la edad de una persona, calcule el valor de su entrada a\n",
    "Divertilandia."
   ]
  },
  {
   "cell_type": "code",
   "execution_count": null,
   "metadata": {},
   "outputs": [],
   "source": [
    "edad=int(input('Edad='))\n",
    "precio=0\n",
    "if edad>=4 and edad<=18:\n",
    "    precio=5000\n",
    "elif edad>18 and edad<65:\n",
    "    precio=10000\n",
    "elif edad>=65:\n",
    "    precio=3000\n",
    "print(precio)"
   ]
  },
  {
   "cell_type": "markdown",
   "metadata": {},
   "source": [
    "El programa anterior es fácilemente convertido en una función reemplazando la primera y la última instrucción:"
   ]
  },
  {
   "cell_type": "code",
   "execution_count": 13,
   "metadata": {},
   "outputs": [],
   "source": [
    "def precio_entrada(edad):       # reemplaza a edad=int(input('Edad='))\n",
    "    precio=0\n",
    "    if edad>=4 and edad<=18:\n",
    "        precio=5000\n",
    "\n",
    "    elif edad>18 and edad<65:\n",
    "        precio=10000\n",
    "\n",
    "    elif edad>=65:\n",
    "        precio=3000\n",
    "\n",
    "    return precio                # reemplaza a print(precio)"
   ]
  },
  {
   "cell_type": "markdown",
   "metadata": {},
   "source": [
    "La forma de usar esta función es:"
   ]
  },
  {
   "cell_type": "code",
   "execution_count": 15,
   "metadata": {},
   "outputs": [
    {
     "name": "stdout",
     "output_type": "stream",
     "text": [
      "10000\n"
     ]
    }
   ],
   "source": [
    "e=21\n",
    "p=precio_entrada(e)\n",
    "print(p)"
   ]
  },
  {
   "cell_type": "markdown",
   "metadata": {},
   "source": [
    "Finalmente juntamos las dos funciones y se construye el programa que las llama:"
   ]
  },
  {
   "cell_type": "code",
   "execution_count": 16,
   "metadata": {},
   "outputs": [
    {
     "name": "stdout",
     "output_type": "stream",
     "text": [
      "N=6\n",
      "Edad=2\n",
      "Edad=10\n",
      "Edad=18\n",
      "Edad=33\n",
      "Edad=45\n",
      "Edad=76\n",
      "33000\n"
     ]
    }
   ],
   "source": [
    "def ingresa_y_valida(vmenor, vmayor, mensaje):\n",
    "    v=int(input(mensaje))\n",
    "    while v < vmenor or v > vmayor:\n",
    "        v=int(input(f'Error, valor fuera de rango.\\n{mensaje}'))\n",
    "    return v\n",
    "\n",
    "def precio_entrada(edad):\n",
    "    precio=0\n",
    "    if edad>=4 and edad<=18:\n",
    "        precio=5000\n",
    "    elif edad>18 and edad<65:\n",
    "        precio=10000\n",
    "    elif edad>=65:\n",
    "        precio=3000\n",
    "    return precio\n",
    "\n",
    "# Programa principal\n",
    "N=ingresa_y_valida(1,float('inf'),'N=')\n",
    "total_a_pagar=0\n",
    "for i in range(N):\n",
    "    edad=ingresa_y_valida(1,90,'Edad=')\n",
    "    total_a_pagar=total_a_pagar+precio_entrada(edad)\n",
    "print(total_a_pagar)"
   ]
  },
  {
   "cell_type": "code",
   "execution_count": null,
   "metadata": {},
   "outputs": [],
   "source": []
  }
 ],
 "metadata": {
  "kernelspec": {
   "display_name": "Python 3",
   "language": "python",
   "name": "python3"
  },
  "language_info": {
   "codemirror_mode": {
    "name": "ipython",
    "version": 3
   },
   "file_extension": ".py",
   "mimetype": "text/x-python",
   "name": "python",
   "nbconvert_exporter": "python",
   "pygments_lexer": "ipython3",
   "version": "3.8.3"
  }
 },
 "nbformat": 4,
 "nbformat_minor": 4
}
