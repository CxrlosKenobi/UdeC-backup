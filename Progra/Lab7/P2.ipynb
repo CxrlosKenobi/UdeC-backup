{
 "cells": [
  {
   "cell_type": "code",
   "execution_count": null,
   "metadata": {},
   "outputs": [],
   "source": [
    "'''\n",
    "  Definición de función para validar el valor ingresado dentro de un rango\n",
    "'''\n",
    "\n",
    "def insertvalue(min, max):\n",
    "  n = int(input(f\"Ingrese un valor entre {min} y {max}\"))\n",
    "\n",
    "  while n <= min or n >= max:\n",
    "    n = int(input(f\"Ingrese un valor entre {min} y {max}\"))\n",
    "  \n",
    "  return n\n",
    "\n",
    "'''\n",
    "  Definición para calcular la cantidad de digitos\n",
    "'''\n",
    "\n",
    "  def digits(n):\n",
    "    digits = 0\n",
    "    while digits != 0:\n",
    "      digits \n",
    "    "
   ]
  }
 ],
 "metadata": {
  "interpreter": {
   "hash": "8a94588eda9d64d9e9a351ab8144e55b1fabf5113b54e67dd26a8c27df0381b3"
  },
  "kernelspec": {
   "display_name": "Python 3.10.4 64-bit",
   "language": "python",
   "name": "python3"
  },
  "language_info": {
   "name": "python",
   "version": "3.10.5"
  },
  "orig_nbformat": 4
 },
 "nbformat": 4,
 "nbformat_minor": 2
}
