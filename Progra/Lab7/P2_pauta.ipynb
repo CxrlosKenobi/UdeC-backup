{
 "cells": [
  {
   "cell_type": "markdown",
   "metadata": {},
   "source": [
    "Comenzaremos este segundo problema copiando la función ingresa_y_valida escrita para el ejercicio anterior."
   ]
  },
  {
   "cell_type": "code",
   "execution_count": 5,
   "metadata": {},
   "outputs": [
    {
     "name": "stdout",
     "output_type": "stream",
     "text": [
      "Capacidad del barco=30\n",
      "Carga=10\n",
      "Carga=5\n",
      "Carga=6\n",
      "Carga=7\n",
      "Carga=2\n",
      "30\n"
     ]
    }
   ],
   "source": [
    "def ingresa_y_valida(vmenor, vmayor, mensaje):\n",
    "    v=int(input(mensaje))\n",
    "    while v < vmenor or v > vmayor:\n",
    "        v=int(input(f'Error, valor fuera de rango.\\n{mensaje}'))\n",
    "    return v\n",
    "\n",
    "# Programa principal\n",
    "p=ingresa_y_valida(1,float('inf'),'Capacidad del barco=')\n",
    "t=0 \n",
    "while t<p:\n",
    "    m=ingresa_y_valida(1,float('inf'),'Carga=')\n",
    "    t=t+m\n",
    "if t>p:\n",
    "    t=t-m\n",
    "print(t)"
   ]
  }
 ],
 "metadata": {
  "kernelspec": {
   "display_name": "Python 3",
   "language": "python",
   "name": "python3"
  },
  "language_info": {
   "codemirror_mode": {
    "name": "ipython",
    "version": 3
   },
   "file_extension": ".py",
   "mimetype": "text/x-python",
   "name": "python",
   "nbconvert_exporter": "python",
   "pygments_lexer": "ipython3",
   "version": "3.8.3"
  }
 },
 "nbformat": 4,
 "nbformat_minor": 4
}
