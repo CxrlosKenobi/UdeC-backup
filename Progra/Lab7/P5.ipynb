{
 "cells": [
  {
   "cell_type": "code",
   "execution_count": 47,
   "metadata": {},
   "outputs": [
    {
     "name": "stdout",
     "output_type": "stream",
     "text": [
      "5\n",
      "17\n",
      "16\n",
      "15\n",
      "14\n",
      "13\n",
      "12\n"
     ]
    }
   ],
   "source": [
    "def validate_input(minimo, maximo):\n",
    "  answer = int(input(\"> \"))\n",
    "  # print(minimo, answer, maximo)\n",
    "\n",
    "  while not (minimo < answer < maximo):\n",
    "    print(f\"Input fuera de rango ({minimo}, {maximo})\")\n",
    "    answer = int(input(\"> \"))\n",
    "  \n",
    "  return answer\n",
    "\n",
    "def count_digits(number):\n",
    "  # if number < 0: \n",
    "  #   number *= -1\n",
    "\n",
    "  count = 0\n",
    "  while (number != 0):\n",
    "    number //= 10\n",
    "    count += 1\n",
    "  \n",
    "  return count\n",
    "\n",
    "def get_significative_digit(n):\n",
    "  length = count_digits(n)\n",
    "  if (length <= 1):\n",
    "    return n, 0\n",
    "\n",
    "  else:\n",
    "    digit = n // (10 ** (length - 1))\n",
    "    other_digits = n - digit * 10 ** (length - 1)\n",
    "\n",
    "    return digit, other_digits\n",
    "\n",
    "def main():\n",
    "  v = validate_input(-1, 9)\n",
    "  n = validate_input(0, 21)\n",
    "\n",
    "  print(v)\n",
    "  while (n > 1):\n",
    "    d_ant, v = get_significative_digit(n)\n",
    "\n",
    "    c = 1\n",
    "    salida = 0\n",
    "    while (count_digits(v) >= 1):\n",
    "      d, v = get_significative_digit(v)\n",
    "\n",
    "      if (d_ant == d):\n",
    "        c += 1\n",
    "      \n",
    "      else:\n",
    "        salida = salida * 100 + c * 10 + d_ant\n",
    "        d_ant = d\n",
    "        c = 1\n",
    "  \n",
    "    salida = salida * 100 + c * 10 + d_ant\n",
    "    print(salida)\n",
    "    v = salida \n",
    "    n -= 1\n",
    "  \n",
    "main()"
   ]
  },
  {
   "cell_type": "code",
   "execution_count": 36,
   "metadata": {},
   "outputs": [
    {
     "data": {
      "text/plain": [
       "4"
      ]
     },
     "execution_count": 36,
     "metadata": {},
     "output_type": "execute_result"
    }
   ],
   "source": []
  }
 ],
 "metadata": {
  "interpreter": {
   "hash": "97cc609b13305c559618ec78a438abc56230b9381f827f22d070313b9a1f3777"
  },
  "kernelspec": {
   "display_name": "Python 3.10.4 64-bit",
   "language": "python",
   "name": "python3"
  },
  "language_info": {
   "codemirror_mode": {
    "name": "ipython",
    "version": 3
   },
   "file_extension": ".py",
   "mimetype": "text/x-python",
   "name": "python",
   "nbconvert_exporter": "python",
   "pygments_lexer": "ipython3",
   "version": "3.10.4"
  },
  "orig_nbformat": 4
 },
 "nbformat": 4,
 "nbformat_minor": 2
}
