{
 "cells": [
  {
   "cell_type": "markdown",
   "metadata": {},
   "source": [
    "Los programas 3 y 4 hay que dejarlos de ejecicio a los estudiantes. Quienes los envíen resueltos se ganan un bitcoin."
   ]
  },
  {
   "cell_type": "code",
   "execution_count": 5,
   "metadata": {},
   "outputs": [
    {
     "name": "stdout",
     "output_type": "stream",
     "text": [
      "5\n",
      "15\n",
      "1115\n",
      "3115\n",
      "132115\n",
      "1113122115\n",
      "311311222115\n"
     ]
    }
   ],
   "source": [
    "# Esta función la copiamos desde los programas anteriores\n",
    "def ingresa_y_valida(vmenor, vmayor, mensaje):\n",
    "    v=int(input(mensaje))\n",
    "    while v < vmenor or v > vmayor:\n",
    "        v=int(input(f'Error, valor fuera de rango.\\n{mensaje}'))\n",
    "    return v\n",
    "\n",
    "# Esta función calcula la cantidad de dígitos de un número n.\n",
    "def contar_digitos(n):\n",
    "    c = 0\n",
    "    while (n != 0):\n",
    "        n = n // 10\n",
    "        c = c + 1\n",
    "    return c\n",
    "\n",
    "# Esta función calcula dos resultados:\n",
    "#  1) el dígito más significativo de un número\n",
    "#  2) un nuevo número al que se le ha eliminado el digito más significativo\n",
    "def obtiene_digito_mas_significativo(n):\n",
    "    d = contar_digitos(n)\n",
    "    if (d <= 1):\n",
    "        return n, 0\n",
    "    else:\n",
    "        dig = n // (10 **(d - 1))\n",
    "\n",
    "        return dig, n - dig * 10 **(d - 1) # we sustract 1 to d \n",
    "\n",
    "# Programa Principal\n",
    "def main():\n",
    "    v = ingresa_y_valida(0, 9, 'v=')\n",
    "    n = ingresa_y_valida(1, 20, 'n=')\n",
    "\n",
    "    print(v)\n",
    "    while (n > 1):\n",
    "        d_ant, v = obtiene_digito_mas_significativo(v)\n",
    "        c = 1\n",
    "        salida = 0\n",
    "\n",
    "        while contar_digitos(v) >= 1:\n",
    "            d, v = obtiene_digito_mas_significativo(v)\n",
    "            if (d_ant == d):\n",
    "                c = c + 1\n",
    "            else:\n",
    "                salida = salida * 100 + c * 10 + d_ant\n",
    "                d_ant = d\n",
    "                c = 1\n",
    "        salida = salida * 100 + c * 10 + d_ant\n",
    "        print(salida)\n",
    "        v = salida\n",
    "        n = n - 1\n",
    "main()"
   ]
  }
 ],
 "metadata": {
  "interpreter": {
   "hash": "97cc609b13305c559618ec78a438abc56230b9381f827f22d070313b9a1f3777"
  },
  "kernelspec": {
   "display_name": "Python 3.10.4 64-bit",
   "language": "python",
   "name": "python3"
  },
  "language_info": {
   "codemirror_mode": {
    "name": "ipython",
    "version": 3
   },
   "file_extension": ".py",
   "mimetype": "text/x-python",
   "name": "python",
   "nbconvert_exporter": "python",
   "pygments_lexer": "ipython3",
   "version": "3.10.4"
  }
 },
 "nbformat": 4,
 "nbformat_minor": 4
}
