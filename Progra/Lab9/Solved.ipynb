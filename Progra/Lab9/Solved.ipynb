{
 "cells": [
  {
   "cell_type": "code",
   "execution_count": 61,
   "metadata": {},
   "outputs": [
    {
     "name": "stdout",
     "output_type": "stream",
     "text": [
      "1\n",
      "11\n",
      "21\n",
      "1211\n",
      "111221\n",
      "312211\n",
      "13112221\n"
     ]
    }
   ],
   "source": [
    "def validate_input(minimo, maximo):\n",
    "  answer = int(input(\"> \"))\n",
    "\n",
    "  while not (minimo < answer < maximo):\n",
    "    print(f\"Input fuera de rango ({minimo}, {maximo})\")\n",
    "    answer = int(input(\"> \"))\n",
    "  \n",
    "  return answer\n",
    "\n",
    "def conway(n): # Esta funcion es la que se encarga de calcular el siguiente valor \n",
    "  largo = len(n)\n",
    "  if largo == 1: \n",
    "    return '1' + n\n",
    "  else:\n",
    "    pivot = n[0] # El primer valor es el pivot, en primera instancia\n",
    "    res = '' # Donde acumulamos el resultado\n",
    "\n",
    "    t = 1 # t es la cantidad de numeros que se van a sumar\n",
    "    for i in range(1, largo): # Recorremos los numeros del segundo digito hasta el ultimo\n",
    "      if pivot == n[i]: # Si el digito anterior es igual al actualUntitled1\n",
    "        t += 1 # Sumamos uno a t, para que cuente el numero de veces que se repite.\n",
    "      else:\n",
    "        res += str(t) + pivot # Si no, agregamos el numero de veces que se repite y el digito actual\n",
    "        t = 1 # Reiniciamos el contador\n",
    "      pivot = n[i] # Actualizamos el digito anterior, para que sea el actual, para la proxima iteracion, y asi sucesivamente.\n",
    "\n",
    "    res += str(t) + pivot # Agregamos el ultimo digito, y el numero de veces que se repite.\n",
    "    return res\n",
    "\n",
    "def main():\n",
    "  v_inicial = input(\"Valor inicial: \") # \n",
    "\n",
    "  n = validate_input(0, 1000)\n",
    "\n",
    "  for i in range(n):\n",
    "    print(v_inicial)\n",
    "    v_inicial = conway(v_inicial)\n",
    "\n",
    "main()\n"
   ]
  }
 ],
 "metadata": {
  "interpreter": {
   "hash": "8a94588eda9d64d9e9a351ab8144e55b1fabf5113b54e67dd26a8c27df0381b3"
  },
  "kernelspec": {
   "display_name": "Python 3.10.4 64-bit",
   "language": "python",
   "name": "python3"
  },
  "language_info": {
   "codemirror_mode": {
    "name": "ipython",
    "version": 3
   },
   "file_extension": ".py",
   "mimetype": "text/x-python",
   "name": "python",
   "nbconvert_exporter": "python",
   "pygments_lexer": "ipython3",
   "version": "3.10.5"
  },
  "orig_nbformat": 4
 },
 "nbformat": 4,
 "nbformat_minor": 2
}
