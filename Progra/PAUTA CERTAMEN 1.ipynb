{
 "cells": [
  {
   "cell_type": "markdown",
   "metadata": {},
   "source": [
    "## Problema 1, Inversión de un número entero\n",
    "\n",
    "El problema se puede dividir en tres pasos:\n",
    "1) Ingresar el número entero que cumpla con las restricciones\n",
    "2) Invertir el número\n",
    "3) Desplegar el resultado\n",
    "\n",
    "Para la primera parte procederemos como se ha venido haciendo la validación hasta ahora:"
   ]
  },
  {
   "cell_type": "code",
   "execution_count": null,
   "metadata": {},
   "outputs": [],
   "source": [
    "# Paso 1: Ingreso y validación de m\n",
    "m=int(input('m='))\n",
    "while m < 100 or m>10**12:\n",
    "    m=int(input('Error, m debe ser positivo mayor o igual a 100 y menor o igual a 10^12.\\nm='))\n",
    "print(m)"
   ]
  },
  {
   "cell_type": "markdown",
   "metadata": {},
   "source": [
    "En el código anterior, podemos estar seguros que cuando el programa llegue a la línea 5 el valor de m cumplirá con los requerimientos del problema, esto es que 100<=m<=10^12.\n",
    "\n",
    "Ahora, ¿cómo invertir el número (segundo paso)?.\n",
    "Se utilizará la estrategía, también vista en clases, de ir obteniendo los dígitos (desde los menos significativos hacia los más significativos) usando el resto de la división por 10 (%10) y luego se irán quitando usando la división entera por 10 (//10).\n",
    "Cada dígito en esta sección de código será almacenado en la variable d y se irá integrando al número invertido m_inv usando la fórmula m_inv=m_inv*10+d.\n",
    "\n",
    "El código que implementa la estrategia anterior está implementado entre las líneas 6 y 12 en la siguiente celda."
   ]
  },
  {
   "cell_type": "code",
   "execution_count": null,
   "metadata": {},
   "outputs": [],
   "source": [
    "# PAso 1: Ingreso y validación de m\n",
    "m=int(input('m='))\n",
    "while m < 100 or m>10**12:\n",
    "    m=int(input('Error, m debe ser positivo mayor o igual a 100 y menor o igual a 10^12.\\nm='))\n",
    "\n",
    "# Paso 2: Inversión de los dígitos de m\n",
    "aux=m\n",
    "m_inv=0\n",
    "while aux!=0:\n",
    "    d=aux%10\n",
    "    m_inv=m_inv*10+d\n",
    "    aux=aux//10"
   ]
  },
  {
   "cell_type": "markdown",
   "metadata": {},
   "source": [
    "El paso 3 para finalizar es el despliegue del resultado, esto es, m_inv, lo cual se encuentra en la instrucción en la línea 15 del programa en la siguiente celda."
   ]
  },
  {
   "cell_type": "code",
   "execution_count": 1,
   "metadata": {},
   "outputs": [
    {
     "name": "stdout",
     "output_type": "stream",
     "text": [
      "m=123456\n",
      "654321\n"
     ]
    }
   ],
   "source": [
    "# Paso 1: Ingreso y validación de m\n",
    "m=int(input('m='))\n",
    "while m < 100 or m>10**12:\n",
    "    m=int(input('Error, m debe ser positivo mayor o igual a 100 y menor o igual a 10^12.\\nm='))\n",
    "\n",
    "# Paso 2: Inversión de m\n",
    "aux=m\n",
    "m_inv=0\n",
    "while aux!=0:\n",
    "    d=aux%10\n",
    "    m_inv=m_inv*10+d\n",
    "    aux=aux//10\n",
    "\n",
    "# Paso 3: Despliegue de resultado\n",
    "print(m_inv)"
   ]
  },
  {
   "cell_type": "markdown",
   "metadata": {},
   "source": [
    "## Problema 2: Terna de valor más alto\n",
    "\n",
    "Una simplificación de la solución a este problema consiste en dividirlo en los siguientes pasos:\n",
    "\n",
    "1) Leer y validar el valor de T\n",
    "\n",
    "2) Definir valor mayor como -10^31 (el menor valor lo ponemos como el mayor, eso generará un cambio seguro de valor mayor probablemente en la primera iteración del tercer paso).\n",
    "\n",
    "3) Repetir T veces\n",
    "\n",
    "4)____Leer los valores A,B,O\n",
    "\n",
    "5)____Dependiendo del valor de O calcular V como A+B, A-B, A*B o A/B\n",
    "\n",
    "6)____Si V es mayor que el valor mayor, cambiar el valor mayor por V\n",
    "\n",
    "7) Desplegar el valor mayor\n",
    "\n",
    "Partiendo por los dos primeros pasos:"
   ]
  },
  {
   "cell_type": "code",
   "execution_count": null,
   "metadata": {},
   "outputs": [],
   "source": [
    "# Paso 1: Ingreso y validación de T\n",
    "T=int(input('T='))\n",
    "while T <= 0:\n",
    "    T=int(input('Error, T debe ser positivo.\\nT='))\n",
    "# Paso 2: Definir valor mayor como -10^31\n",
    "valor_mayor=-10**31"
   ]
  },
  {
   "cell_type": "markdown",
   "metadata": {},
   "source": [
    "Ahora se implementa el ciclo de T repeticiones para buscar el valor mayor verdadero."
   ]
  },
  {
   "cell_type": "code",
   "execution_count": null,
   "metadata": {},
   "outputs": [],
   "source": [
    "# Paso 1: Ingreso y validación de T\n",
    "T=int(input('T='))\n",
    "while T <= 0:\n",
    "    T=int(input('Error, T debe ser positivo.\\nT='))\n",
    "# Paso 2: Definir valor mayor como -10^31\n",
    "valor_mayor=-10**31\n",
    "# Pasos 3 a 6\n",
    "for i in range(T):\n",
    "    # Paso 4, lectura de A, B y O\n",
    "    A=float(input('A='))\n",
    "    B=float(input('B='))\n",
    "    O=int(input('O='))\n",
    "    while O<1 or O>4:\n",
    "        O=int(input('Error, O debe ser 1, 2 3 o 4.\\nO='))\n",
    "    # Paso 5, dependiendo del valor de O calcular V\n",
    "    if O==1:\n",
    "        V=A+B\n",
    "    elif O==2:\n",
    "        V=A-B\n",
    "    elif O==3:\n",
    "        V=A*B\n",
    "    else:\n",
    "        V=A/B\n",
    "    # Paso 6: si V es mayor que el valor mayor cambiar el valor mayor \n",
    "    if V>valor_mayor:\n",
    "        valor_mayor=V       "
   ]
  },
  {
   "cell_type": "markdown",
   "metadata": {},
   "source": [
    "Ahora queda sólo el último paso, desplegar el resultado:"
   ]
  },
  {
   "cell_type": "code",
   "execution_count": 2,
   "metadata": {},
   "outputs": [
    {
     "name": "stdout",
     "output_type": "stream",
     "text": [
      "T=4\n",
      "A=1.2\n",
      "B=4.5\n",
      "O=1\n",
      "A=2.6\n",
      "B=7.3\n",
      "O=2\n",
      "A=2.9\n",
      "B=1.89\n",
      "O=3\n",
      "A=17.3\n",
      "B=2.05\n",
      "O=4\n",
      "8.439024390243903\n"
     ]
    }
   ],
   "source": [
    "# Paso 1: Ingreso y validación de T\n",
    "T=int(input('T='))\n",
    "while T <= 0:\n",
    "    T=int(input('Error, T debe ser positivo.\\nT='))\n",
    "# Paso 2: Definir valor mayor como -10^31\n",
    "valor_mayor=-10**31\n",
    "# Pasos 3 a 6\n",
    "for i in range(T):\n",
    "    # Paso 4, lectura de A, B y O\n",
    "    A=float(input('A='))\n",
    "    B=float(input('B='))\n",
    "    O=int(input('O='))\n",
    "    while O<1 or O>4:\n",
    "        O=int(input('Error, O debe ser 1, 2 3 o 4.\\nO='))\n",
    "    # Paso 5, dependiendo del valor de O calcular V\n",
    "    if O==1:\n",
    "        V=A+B\n",
    "    elif O==2:\n",
    "        V=A-B\n",
    "    elif O==3:\n",
    "        V=A*B\n",
    "    else:\n",
    "        V=A/B\n",
    "    # Paso 6: si V es mayor que el valor mayor cambiar el valor mayor \n",
    "    if V>valor_mayor:\n",
    "        valor_mayor=V\n",
    "# Paso 7: desplegar el resultado (valor mayor)\n",
    "print(valor_mayor)"
   ]
  },
  {
   "cell_type": "markdown",
   "metadata": {},
   "source": [
    "## Problema 3, Secuencia de Fibonacci y Número Áureo\n",
    "\n",
    "En este problema tenemos que calcular los números de la serie de Fibonacci. Esta serie está compuesta por los números:\n",
    "\n",
    "0, 1, 1, 2, 3, 5, 8, 13, 21, 34, 55, 89, etc.\n",
    "\n",
    "es decir, cada término es equivalente a la suma de los dos términos inmediatamente anteriores. La serie inicia con los términos 0 y 1 por definición.\n",
    "\n",
    "Este problema se podría sibdividir en la siguiente secuencia de pasos:\n",
    "\n",
    "1) Leer y validar el valorde n\n",
    "\n",
    "2) Calcular los términos n+1 y n de la serie de Fibonacci\n",
    "\n",
    "3) Calcular el valor aproximado del número áureo (usando los términos n+1 y n de la serie de Fibonacci\n",
    "\n",
    "4) Calcular el número áureo usando la formula de su definición\n",
    "\n",
    "5) Calcular y desplegar el error entre el número áureo y su aproximación"
   ]
  },
  {
   "cell_type": "code",
   "execution_count": null,
   "metadata": {},
   "outputs": [],
   "source": [
    "# Paso 1, lectura y validación de n\n",
    "n=int(input('n='))\n",
    "while n <= 1:\n",
    "    n=int(input('Error, n debe ser positivo mayor o igual a 2.\\nn='))"
   ]
  },
  {
   "cell_type": "markdown",
   "metadata": {},
   "source": [
    "Ahora se calculan los términos n y n+1 de la Serie de Fibonacci"
   ]
  },
  {
   "cell_type": "code",
   "execution_count": null,
   "metadata": {},
   "outputs": [],
   "source": [
    "# Paso 1, lectura y validación de n\n",
    "n=int(input('n='))\n",
    "while n <= 1:\n",
    "    n=int(input('Error, n debe ser positivo mayor o igual a 2.\\nn='))\n",
    "# Paso 2, Cálculo de los términos n y n+1 de la Serie de Fibonacci\n",
    "f_n=0\n",
    "f_nmas1=1\n",
    "if n>2:\n",
    "    i=1\n",
    "    while i<n:\n",
    "        f_nmas2=f_nmas1+f_n\n",
    "        f_n=f_nmas1\n",
    "        f_nmas1=f_nmas2\n",
    "        i=i+1\n",
    "print(f_n, f_nmas1)"
   ]
  },
  {
   "cell_type": "markdown",
   "metadata": {},
   "source": [
    "Ahora procede calcular los valores exacto y aproximado del número áureo"
   ]
  },
  {
   "cell_type": "code",
   "execution_count": null,
   "metadata": {},
   "outputs": [],
   "source": [
    "# Paso 1, lectura y validación de n\n",
    "n=int(input('n='))\n",
    "while n <= 1:\n",
    "    n=int(input('Error, n debe ser positivo mayor o igual a 2.\\nn='))\n",
    "# Paso 2, Cálculo de los términos n y n+1 de la Serie de Fibonacci\n",
    "f_n=0\n",
    "f_nmas1=1\n",
    "if n>2:\n",
    "    i=1\n",
    "    while i<n:\n",
    "        f_nmas2=f_nmas1+f_n\n",
    "        f_n=f_nmas1\n",
    "        f_nmas1=f_nmas2\n",
    "        i=i+1\n",
    "# Paso 3, cálculo del valor aproximado del número áureo...\n",
    "app_phi=f_nmas1/f_n\n",
    "# Paso 4, y cálculo del valor exacto del número áureo\n",
    "phi=(1+5**0.5)/2\n",
    "print(app_phi, phi)"
   ]
  },
  {
   "cell_type": "markdown",
   "metadata": {},
   "source": [
    "Ahora se puede calcular y desplegar la diferencia entre el número áureo phi y su aproximación usando series de Fibonacci."
   ]
  },
  {
   "cell_type": "code",
   "execution_count": 5,
   "metadata": {},
   "outputs": [
    {
     "name": "stdout",
     "output_type": "stream",
     "text": [
      "n=25\n",
      "2.0800716704627575e-10\n"
     ]
    }
   ],
   "source": [
    "# Paso 1, lectura y validación de n\n",
    "n=int(input('n='))\n",
    "while n <= 1:\n",
    "    n=int(input('Error, n debe ser positivo mayor o igual a 2.\\nn='))\n",
    "# Paso 2, Cálculo de los términos n y n+1 de la Serie de Fibonacci\n",
    "f_n=0\n",
    "f_nmas1=1\n",
    "if n>2:\n",
    "    i=1\n",
    "    while i<n:\n",
    "        f_nmas2=f_nmas1+f_n\n",
    "        f_n=f_nmas1\n",
    "        f_nmas1=f_nmas2\n",
    "        i=i+1\n",
    "# Paso 3, cálculo del valor aproximado del número áureo...\n",
    "app_phi=f_nmas1/f_n\n",
    "# Paso 4, y cálculo del valor exacto del número áureo\n",
    "phi=(1+5**0.5)/2\n",
    "# Paso 5, cálculo y despliegue del error \n",
    "print(abs(phi-app_phi))"
   ]
  }
 ],
 "metadata": {
  "kernelspec": {
   "display_name": "Python 3",
   "language": "python",
   "name": "python3"
  },
  "language_info": {
   "codemirror_mode": {
    "name": "ipython",
    "version": 3
   },
   "file_extension": ".py",
   "mimetype": "text/x-python",
   "name": "python",
   "nbconvert_exporter": "python",
   "pygments_lexer": "ipython3",
   "version": "3.8.3"
  }
 },
 "nbformat": 4,
 "nbformat_minor": 4
}
