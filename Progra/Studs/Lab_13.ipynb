{
 "cells": [
  {
   "cell_type": "code",
   "execution_count": 27,
   "id": "cbd52a3e",
   "metadata": {},
   "outputs": [
    {
     "name": "stdout",
     "output_type": "stream",
     "text": [
      "Matriz de cantidades vendidas: \n",
      "[[10  9  8  7]\n",
      " [ 3  4  5  6]\n",
      " [ 1  0  1  1]\n",
      " [10 12 12 12]\n",
      " [ 5  5 10  6]]\n",
      "Cantidad de artículos vendidos en la sucursal 2: 30\n",
      "Cantidad de artículos vendidos en la sucursal 3: 36\n",
      "Cantidad vendida del artículo 3 en la sucursal 1: 1\n",
      "Recaudación total de la sucursal 4: 47330\n",
      "Recaudación total de la empresa: 189990\n"
     ]
    }
   ],
   "source": [
    "#Ejercicio 3\n",
    "import numpy as np\n",
    "\n",
    "valores = np.array(input(f'Ingrese los valores separados por un espacio: ').split(' '), dtype=int)\n",
    "valores = valores.reshape(5, 1) \n",
    "\n",
    "for i in range(5):\n",
    "    vendidos = np.array(input(f'Ingrese cantidad vendida del producto {i+1} en cada uno en las sucursales, separado por espacios: ').split(' '), dtype=int)\n",
    "    if (i == 0):\n",
    "        aux = vendidos\n",
    "    else:\n",
    "        aux=np.vstack((aux, vendidos))\n",
    "\n",
    "print(f'Matriz de cantidades vendidas: \\n{aux}')\n",
    "\n",
    "sucursal2 = 0\n",
    "for venta in aux[:, 1]:\n",
    "    sucursal2 += venta\n",
    "print(f'Cantidad de artículos vendidos en la sucursal 2: {sucursal2}')\n",
    "\n",
    "sucursal3 = 0\n",
    "for venta in aux[:, 2]:\n",
    "    sucursal3 += venta\n",
    "print(f'Cantidad de artículos vendidos en la sucursal 3: {sucursal3}')\n",
    "\n",
    "a3s1 = aux[2, 0]\n",
    "print(f'Cantidad vendida del artículo 3 en la sucursal 1: {a3s1}')\n",
    "\n",
    "\n",
    "sucursal4 = aux[:, 3]\n",
    "totals4 = 0\n",
    "for venta in range(len(sucursal4)): # Itera cada fila\n",
    "    # Multiplicar el valor de la fila por la cantidad de ventas correspondiente a ese producto\n",
    "    totals4 += (sucursal4[venta] * valores[venta, 0] )\n",
    "\n",
    "print(f'Recaudación total de la sucursal 4: {totals4}')\n",
    "\n",
    "totalempresa = 0\n",
    "for fila in range(len(aux)):\n",
    "    # Iteramos cada valor de la fila\n",
    "    # Y lo multiplicamos por el valor del producto, que está en el mismo índice, que la fila\n",
    "    total_fila = [articulo * valores[fila] for articulo in aux[fila]]\n",
    "    totalempresa += sum(total_fila)\n",
    "\n",
    "print(f'Recaudación total de la empresa: {int(totalempresa)}')\n",
    "\n"
   ]
  },
  {
   "cell_type": "code",
   "execution_count": 3,
   "id": "541e5e41",
   "metadata": {},
   "outputs": [
    {
     "name": "stdout",
     "output_type": "stream",
     "text": [
      "[[5.-0.j 3.+7.j]\n",
      " [3.-7.j 2.-0.j]]\n",
      "Sí, es hermitiana\n"
     ]
    }
   ],
   "source": [
    "#Ejercicio 6 \n",
    "\n",
    "import numpy as np\n",
    "\n",
    "\n",
    "def matriz_traspuesta(m):\n",
    "    x,y = m.shape\n",
    "    m_t = np.empty((y,x), dtype=complex)\n",
    "    for i in range(x):\n",
    "        for j in range(y):\n",
    "            m_t[j,i] = m[i,j]\n",
    "    return m_t\n",
    "\n",
    "def real(m,c):\n",
    "    x,y=m.shape\n",
    "    real=True\n",
    "    for i in range(x):\n",
    "        for j in range(y):\n",
    "            if m[i,j]!=c[i,j]:\n",
    "                real=False\n",
    "                break\n",
    "    return real\n",
    "\n",
    "\n",
    "n=int(input('Ingrese dimensión matriz cuadrada: '))\n",
    "A = np.empty((n,n), dtype=complex)\n",
    "\n",
    "for i in range(n):\n",
    "    for j in range(n):\n",
    "        valor = complex( input(f'Ingrese valor {i,j}: ') )\n",
    "        A[i,j] = valor\n",
    "       \n",
    "    \n",
    "C=A.conjugate()\n",
    "\n",
    "\n",
    "if real(A,C):\n",
    "    traspuesta=matriz_traspuesta(A)\n",
    "    print(traspuesta)\n",
    "    seguir=True\n",
    "    simetrica=True\n",
    "    for i in range(n):\n",
    "        for j in range(n):\n",
    "            if traspuesta[i,j]!=A[i,j]:\n",
    "                simetrica=False\n",
    "                break\n",
    "    if simetrica:\n",
    "        print('Sí, es simétrica')\n",
    "    else:\n",
    "        print('No es simétrica')\n",
    "\n",
    "else:\n",
    "    traspuesta=matriz_traspuesta(C)\n",
    "    print(traspuesta)\n",
    "    seguir=True\n",
    "    simetrica=True\n",
    "    for i in range(n):\n",
    "        for j in range(n):\n",
    "            if traspuesta[i,j]!=A[i,j]:\n",
    "                simetrica=False\n",
    "                break\n",
    "    if simetrica:\n",
    "        print('Sí, es hermitiana')\n",
    "    else:\n",
    "        print('No es hermitiana')"
   ]
  },
  {
   "cell_type": "code",
   "execution_count": null,
   "id": "954d0864",
   "metadata": {},
   "outputs": [],
   "source": []
  }
 ],
 "metadata": {
  "kernelspec": {
   "display_name": "Python 3.10.5 64-bit",
   "language": "python",
   "name": "python3"
  },
  "language_info": {
   "codemirror_mode": {
    "name": "ipython",
    "version": 3
   },
   "file_extension": ".py",
   "mimetype": "text/x-python",
   "name": "python",
   "nbconvert_exporter": "python",
   "pygments_lexer": "ipython3",
   "version": "3.10.5"
  },
  "vscode": {
   "interpreter": {
    "hash": "97cc609b13305c559618ec78a438abc56230b9381f827f22d070313b9a1f3777"
   }
  }
 },
 "nbformat": 4,
 "nbformat_minor": 5
}
